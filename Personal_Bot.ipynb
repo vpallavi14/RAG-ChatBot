{
 "cells": [
  {
   "cell_type": "code",
   "execution_count": 1,
   "id": "73c6af80-0f45-405f-85d7-426aebcfb483",
   "metadata": {},
   "outputs": [],
   "source": [
    "import os\n",
    "os.environ['LANGCHAIN_TRACING_V2'] = 'true'\n",
    "os.environ['LANGCHAIN_ENDPOINT'] = 'https://api.smith.langchain.com'\n",
    "os.environ['LANGCHAIN_API_KEY'] = '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'"
   ]
  },
  {
   "cell_type": "code",
   "execution_count": 27,
   "id": "77224366-d8a1-4777-a2d8-5562e32d0636",
   "metadata": {},
   "outputs": [],
   "source": [
    "os.environ['OPENAI_API_KEY'] = 'API Key Here'"
   ]
  },
  {
   "cell_type": "code",
   "execution_count": 11,
   "id": "ada38802-1592-4f78-a916-fd084780ee8b",
   "metadata": {},
   "outputs": [],
   "source": [
    "import os, datetime, threading\n",
    "from langchain.document_loaders import TextLoader\n",
    "from langchain.text_splitter import RecursiveCharacterTextSplitter\n",
    "from langchain.vectorstores import Chroma\n",
    "from langchain.embeddings import HuggingFaceEmbeddings\n",
    "from langchain_openai import ChatOpenAI\n",
    "from langchain.chains import ConversationalRetrievalChain\n",
    "from plyer import notification\n",
    "import pyttsx3\n",
    "from googleapiclient.discovery import build\n",
    "from google_auth_oauthlib.flow import InstalledAppFlow\n",
    "from google.auth.transport.requests import Request\n",
    "import pickle"
   ]
  },
  {
   "cell_type": "code",
   "execution_count": 17,
   "id": "ad8fc762-8b90-4ad5-9f01-70121a432118",
   "metadata": {},
   "outputs": [],
   "source": [
    "#Loading personal documents\n",
    "loader = TextLoader(\"/Applications/PersonalBot/My_Personal.txt\")\n",
    "docs = loader.load()\n",
    "\n",
    "#Spliting large documents into smaller chunks\n",
    "splitter = RecursiveCharacterTextSplitter(chunk_size=500, chunk_overlap=100)\n",
    "split_docs = splitter.split_documents(docs)\n",
    "\n",
    "embedding = HuggingFaceEmbeddings(model_name=\"all-MiniLM-L6-v2\")\n",
    "vectorstore = Chroma.from_documents(split_docs, embedding=embedding, persist_directory=\"chroma_db\")\n",
    "\n",
    "retriever = vectorstore.as_retriever()\n",
    "llm = ChatOpenAI(model=\"gpt-4\", temperature=0.3)\n",
    "rag = ConversationalRetrievalChain.from_llm(llm=llm, retriever=retriever, memory=None)"
   ]
  },
  {
   "cell_type": "code",
   "execution_count": 19,
   "id": "7c9ffc7a-73a8-44b3-99ff-70f99aec5ed9",
   "metadata": {},
   "outputs": [],
   "source": [
    "#Setting up Google Calendar API\n",
    "SCOPES = ['https://www.googleapis.com/auth/calendar.readonly']\n",
    "creds = None\n",
    "CREDENTIALS_PATH = \"/Applications/PersonalBot/credentials.json\"\n",
    "if os.path.exists('token.pickle'):\n",
    "    creds = pickle.load(open('token.pickle','rb'))\n",
    "if not creds or not creds.valid:\n",
    "    if creds and creds.expired and creds.refresh_token:\n",
    "        creds.refresh(Request())\n",
    "    else:\n",
    "        flow = InstalledAppFlow.from_client_secrets_file(CREDENTIALS_PATH, SCOPES)\n",
    "        creds = flow.run_local_server(port=0)\n",
    "    with open('token.pickle','wb') as f: pickle.dump(creds, f)"
   ]
  },
  {
   "cell_type": "code",
   "execution_count": 21,
   "id": "a0c04975-8a26-451d-9cf7-1e31c0527034",
   "metadata": {},
   "outputs": [],
   "source": [
    "calendar = build('calendar', 'v3', credentials=creds)\n",
    "\n",
    "# this gets today's event \n",
    "def get_today_events():\n",
    "    now = datetime.datetime.utcnow().isoformat() + 'Z'\n",
    "    end = (datetime.datetime.utcnow() + datetime.timedelta(hours=24)).isoformat() + 'Z'\n",
    "    events_result = calendar.events().list(\n",
    "        calendarId='primary',\n",
    "        timeMin=now,\n",
    "        timeMax=end,\n",
    "        singleEvents=True,\n",
    "        orderBy='startTime'\n",
    "    ).execute()\n",
    "\n",
    "    return events_result.get('items', [])"
   ]
  },
  {
   "cell_type": "code",
   "execution_count": 23,
   "id": "b9a29a9a-4fc0-47c9-b341-03bc0ef80501",
   "metadata": {},
   "outputs": [],
   "source": [
    "# Notification at Login\n",
    "def notify_startup():\n",
    "    advice = \"It's lovely and sunny today—no umbrella needed.\" if datetime.datetime.now().hour < 18 else \"\"\n",
    "    # Set empty history at start\n",
    "    result = rag.invoke({\n",
    "        \"question\": f\"What is my schedule for {datetime.datetime.now().strftime('%A')}?\",\n",
    "        \"chat_history\": []\n",
    "    })\n",
    "    summary = result[\"answer\"]\n",
    "    evs = get_today_events()\n",
    "    schedule = \"\\n\".join([f\"- {ev['summary']} at {ev['start'].get('dateTime', ev['start'].get('date'))}\" for ev in evs]) or \"Nothing scheduled\"\n",
    "    print(f\"\\n Good day, Pallavi!\\n\\n{advice}\\n\\n Here's your schedule today:\\n{schedule}\\n\\n Knowledge Summary:\\n{summary}\\n\")"
   ]
  },
  {
   "cell_type": "code",
   "execution_count": 11,
   "id": "c08742d7-9bfe-46bd-b90e-cd54bb2709a8",
   "metadata": {},
   "outputs": [],
   "source": [
    "import tkinter as tk\n",
    "from tkinter import scrolledtext"
   ]
  },
  {
   "cell_type": "code",
   "execution_count": 25,
   "id": "88f4a69e-773d-48b9-ad09-4b92c938203c",
   "metadata": {},
   "outputs": [],
   "source": [
    "# Tkinter GUI Chat Window\n",
    "def run_gui():\n",
    "    chat_history = [] \n",
    "\n",
    "    def send_message(event=None):\n",
    "        user_input = input_box.get()\n",
    "        if user_input.strip() == \"\":\n",
    "            return\n",
    "        chat_box.insert(tk.END, f\"You: {user_input}\\n\")\n",
    "\n",
    "        if user_input.lower() in [\"exit\", \"quit\"]:\n",
    "            root.destroy()\n",
    "            return\n",
    "\n",
    "        if \"remind me\" in user_input.lower():\n",
    "            import re\n",
    "            m = re.search(r'(\\d+)\\s*min', user_input)\n",
    "            if m:\n",
    "                delay = int(m.group(1)) * 60\n",
    "                def remind():\n",
    "                    notification.notify(title=\"Reminder\", message=user_input, timeout=5)\n",
    "                threading.Timer(delay, remind).start()\n",
    "                chat_box.insert(tk.END, f\"Assistant: Got it! I’ll remind you in {m.group(1)} minutes.\\n\\n\")\n",
    "                input_box.delete(0, tk.END)\n",
    "                return\n",
    "\n",
    "        # Passing both question and history \n",
    "        try:\n",
    "            resp = rag.run({\n",
    "                \"question\": user_input,\n",
    "                \"chat_history\": chat_history\n",
    "            })\n",
    "        except Exception as e:\n",
    "            resp = f\"[Error] {e}\"\n",
    "\n",
    "        chat_box.insert(tk.END, f\"Assistant: {resp}\\n\\n\")\n",
    "        input_box.delete(0, tk.END)\n",
    "\n",
    "        # Updating chat history with the latest interaction\n",
    "        chat_history.append((user_input, resp))\n",
    "\n",
    "    root = tk.Tk()\n",
    "    root.title(\"Pallavi's Assistant\")\n",
    "    root.geometry(\"350x300+1200+700\")\n",
    "    root.attributes(\"-topmost\", True)\n",
    "\n",
    "    chat_box = scrolledtext.ScrolledText(root, wrap=tk.WORD, font=(\"Helvetica\", 10))\n",
    "    chat_box.pack(padx=10, pady=5, fill=tk.BOTH, expand=True)\n",
    "    chat_box.insert(tk.END, \"Hello Pallavi! I'm ready to assist you.\\n\\n\")\n",
    "\n",
    "    bottom_frame = tk.Frame(root)\n",
    "    bottom_frame.pack(pady=5)\n",
    "\n",
    "    input_box = tk.Entry(bottom_frame, width=30)\n",
    "    input_box.pack(side=tk.LEFT, padx=(5, 5))\n",
    "    input_box.bind('<Return>', send_message)\n",
    "\n",
    "    send_button = tk.Button(bottom_frame, text=\"Send\", command=send_message)\n",
    "    send_button.pack(side=tk.RIGHT)\n",
    "\n",
    "    root.mainloop()"
   ]
  }
 ],
 "metadata": {
  "kernelspec": {
   "display_name": "Python [conda env:base] *",
   "language": "python",
   "name": "conda-base-py"
  },
  "language_info": {
   "codemirror_mode": {
    "name": "ipython",
    "version": 3
   },
   "file_extension": ".py",
   "mimetype": "text/x-python",
   "name": "python",
   "nbconvert_exporter": "python",
   "pygments_lexer": "ipython3",
   "version": "3.12.7"
  }
 },
 "nbformat": 4,
 "nbformat_minor": 5
}
